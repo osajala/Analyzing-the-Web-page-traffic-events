{
 "cells": [
  {
   "cell_type": "markdown",
   "id": "2b8887ef",
   "metadata": {},
   "source": [
    "**Traffic Project:**\n",
    "\n",
    "The dataset provided is a csv fille name traffic. It contains web traffic data (\"events\") from a few different pages/links over a period of 7 days including various categorical dimensions about the geographic origin of that traffic as well as a page's content: isrc.\n",
    "\n",
    "The project goal is to have a better understanding of traffic most especially the volume and distribution of events, and to develop ideas how to increase the links' clickrates. \n",
    "The project wishes to provide answers to the following questions:\n",
    "\n",
    "**1.** How many total pageview events did the links in the provided dataset receive in the full period, how many per day?\n",
    "\n",
    "**2.** What about the other recorded events?\n",
    "\n",
    "**3.** Which countries did the pageviews come from?\n",
    "\n",
    "**4.** What was the overall click rate (clicks/pageviews)?\n",
    "\n",
    "**5.** How does the clickrate distribute across different links?\n",
    "\n",
    "**6.** Is there any correlation between clicks and previews on a link? Is it significant? How large is the effect? Make sure to at least test for potential linear as well as categorical (think binary) relationships between both variables."
   ]
  },
  {
   "cell_type": "markdown",
   "id": "03c9ba4f",
   "metadata": {},
   "source": [
    "**Import Python Libraries:**"
   ]
  },
  {
   "cell_type": "code",
   "execution_count": 1,
   "id": "dde90d62",
   "metadata": {},
   "outputs": [],
   "source": [
    "# import python libaries\n",
    "import pandas as pd\n",
    "import numpy as np\n",
    "\n",
    "from scipy import stats\n",
    "\n",
    "import matplotlib as mpl\n",
    "import matplotlib.pyplot as plt\n",
    "import seaborn as sns"
   ]
  },
  {
   "cell_type": "markdown",
   "id": "5bcbd092",
   "metadata": {},
   "source": [
    "**Import Traffic Dataset:**"
   ]
  },
  {
   "cell_type": "code",
   "execution_count": 2,
   "id": "2135c5b3",
   "metadata": {},
   "outputs": [],
   "source": [
    "# set display columnn to max so that all coulmns can be viewed\n",
    "pd.set_option('display.max_columns', None)"
   ]
  },
  {
   "cell_type": "code",
   "execution_count": 3,
   "id": "52cb8b8d",
   "metadata": {},
   "outputs": [],
   "source": [
    "# import trafic data\n",
    "traffic_data = pd.read_csv('traffic.csv')"
   ]
  },
  {
   "cell_type": "markdown",
   "id": "4c73901c",
   "metadata": {},
   "source": [
    "**Data Exploration**"
   ]
  },
  {
   "cell_type": "code",
   "execution_count": 4,
   "id": "3c98d9a6",
   "metadata": {},
   "outputs": [
    {
     "data": {
      "text/html": [
       "<div>\n",
       "<style scoped>\n",
       "    .dataframe tbody tr th:only-of-type {\n",
       "        vertical-align: middle;\n",
       "    }\n",
       "\n",
       "    .dataframe tbody tr th {\n",
       "        vertical-align: top;\n",
       "    }\n",
       "\n",
       "    .dataframe thead th {\n",
       "        text-align: right;\n",
       "    }\n",
       "</style>\n",
       "<table border=\"1\" class=\"dataframe\">\n",
       "  <thead>\n",
       "    <tr style=\"text-align: right;\">\n",
       "      <th></th>\n",
       "      <th>event</th>\n",
       "      <th>date</th>\n",
       "      <th>country</th>\n",
       "      <th>city</th>\n",
       "      <th>artist</th>\n",
       "      <th>album</th>\n",
       "      <th>track</th>\n",
       "      <th>isrc</th>\n",
       "      <th>linkid</th>\n",
       "    </tr>\n",
       "  </thead>\n",
       "  <tbody>\n",
       "    <tr>\n",
       "      <th>0</th>\n",
       "      <td>click</td>\n",
       "      <td>2021-08-21</td>\n",
       "      <td>Saudi Arabia</td>\n",
       "      <td>Jeddah</td>\n",
       "      <td>Tesher</td>\n",
       "      <td>Jalebi Baby</td>\n",
       "      <td>Jalebi Baby</td>\n",
       "      <td>QZNWQ2070741</td>\n",
       "      <td>2d896d31-97b6-4869-967b-1c5fb9cd4bb8</td>\n",
       "    </tr>\n",
       "    <tr>\n",
       "      <th>1</th>\n",
       "      <td>click</td>\n",
       "      <td>2021-08-21</td>\n",
       "      <td>Saudi Arabia</td>\n",
       "      <td>Jeddah</td>\n",
       "      <td>Tesher</td>\n",
       "      <td>Jalebi Baby</td>\n",
       "      <td>Jalebi Baby</td>\n",
       "      <td>QZNWQ2070741</td>\n",
       "      <td>2d896d31-97b6-4869-967b-1c5fb9cd4bb8</td>\n",
       "    </tr>\n",
       "    <tr>\n",
       "      <th>2</th>\n",
       "      <td>click</td>\n",
       "      <td>2021-08-21</td>\n",
       "      <td>India</td>\n",
       "      <td>Ludhiana</td>\n",
       "      <td>Reyanna Maria</td>\n",
       "      <td>So Pretty</td>\n",
       "      <td>So Pretty</td>\n",
       "      <td>USUM72100871</td>\n",
       "      <td>23199824-9cf5-4b98-942a-34965c3b0cc2</td>\n",
       "    </tr>\n",
       "    <tr>\n",
       "      <th>3</th>\n",
       "      <td>click</td>\n",
       "      <td>2021-08-21</td>\n",
       "      <td>France</td>\n",
       "      <td>Unknown</td>\n",
       "      <td>Simone &amp; Simaria, Sebastian Yatra</td>\n",
       "      <td>No Llores Más</td>\n",
       "      <td>No Llores Más</td>\n",
       "      <td>BRUM72003904</td>\n",
       "      <td>35573248-4e49-47c7-af80-08a960fa74cd</td>\n",
       "    </tr>\n",
       "    <tr>\n",
       "      <th>4</th>\n",
       "      <td>click</td>\n",
       "      <td>2021-08-21</td>\n",
       "      <td>Maldives</td>\n",
       "      <td>Malé</td>\n",
       "      <td>Tesher</td>\n",
       "      <td>Jalebi Baby</td>\n",
       "      <td>Jalebi Baby</td>\n",
       "      <td>QZNWQ2070741</td>\n",
       "      <td>2d896d31-97b6-4869-967b-1c5fb9cd4bb8</td>\n",
       "    </tr>\n",
       "  </tbody>\n",
       "</table>\n",
       "</div>"
      ],
      "text/plain": [
       "   event        date       country      city  \\\n",
       "0  click  2021-08-21  Saudi Arabia    Jeddah   \n",
       "1  click  2021-08-21  Saudi Arabia    Jeddah   \n",
       "2  click  2021-08-21         India  Ludhiana   \n",
       "3  click  2021-08-21        France   Unknown   \n",
       "4  click  2021-08-21      Maldives      Malé   \n",
       "\n",
       "                              artist          album          track  \\\n",
       "0                             Tesher    Jalebi Baby    Jalebi Baby   \n",
       "1                             Tesher    Jalebi Baby    Jalebi Baby   \n",
       "2                      Reyanna Maria      So Pretty      So Pretty   \n",
       "3  Simone & Simaria, Sebastian Yatra  No Llores Más  No Llores Más   \n",
       "4                             Tesher    Jalebi Baby    Jalebi Baby   \n",
       "\n",
       "           isrc                                linkid  \n",
       "0  QZNWQ2070741  2d896d31-97b6-4869-967b-1c5fb9cd4bb8  \n",
       "1  QZNWQ2070741  2d896d31-97b6-4869-967b-1c5fb9cd4bb8  \n",
       "2  USUM72100871  23199824-9cf5-4b98-942a-34965c3b0cc2  \n",
       "3  BRUM72003904  35573248-4e49-47c7-af80-08a960fa74cd  \n",
       "4  QZNWQ2070741  2d896d31-97b6-4869-967b-1c5fb9cd4bb8  "
      ]
     },
     "execution_count": 4,
     "metadata": {},
     "output_type": "execute_result"
    }
   ],
   "source": [
    "# View the first few rows (5)\n",
    "traffic_data.head()"
   ]
  },
  {
   "cell_type": "code",
   "execution_count": 5,
   "id": "a7916cd0",
   "metadata": {},
   "outputs": [
    {
     "data": {
      "text/plain": [
       "(226278, 9)"
      ]
     },
     "execution_count": 5,
     "metadata": {},
     "output_type": "execute_result"
    }
   ],
   "source": [
    "# View the number of rows/columns\n",
    "traffic_data.shape"
   ]
  },
  {
   "cell_type": "code",
   "execution_count": 6,
   "id": "05b7449c",
   "metadata": {},
   "outputs": [
    {
     "name": "stdout",
     "output_type": "stream",
     "text": [
      "<class 'pandas.core.frame.DataFrame'>\n",
      "RangeIndex: 226278 entries, 0 to 226277\n",
      "Data columns (total 9 columns):\n",
      " #   Column   Non-Null Count   Dtype \n",
      "---  ------   --------------   ----- \n",
      " 0   event    226278 non-null  object\n",
      " 1   date     226278 non-null  object\n",
      " 2   country  226267 non-null  object\n",
      " 3   city     226267 non-null  object\n",
      " 4   artist   226241 non-null  object\n",
      " 5   album    226273 non-null  object\n",
      " 6   track    226273 non-null  object\n",
      " 7   isrc     219157 non-null  object\n",
      " 8   linkid   226278 non-null  object\n",
      "dtypes: object(9)\n",
      "memory usage: 15.5+ MB\n"
     ]
    }
   ],
   "source": [
    "traffic_data.info()"
   ]
  },
  {
   "cell_type": "markdown",
   "id": "56550c77",
   "metadata": {},
   "source": [
    "The total number of columns/variables is 9. There are some features/variables with missing values, which needs to be taking care of."
   ]
  },
  {
   "cell_type": "markdown",
   "id": "769f7af0",
   "metadata": {},
   "source": [
    "**1.** **How many total pageview events did the links in the provided dataset receive in the full period, how many per day?**"
   ]
  },
  {
   "cell_type": "code",
   "execution_count": 43,
   "id": "792f9285",
   "metadata": {},
   "outputs": [
    {
     "data": {
      "text/plain": [
       "pageview    142015\n",
       "click        55732\n",
       "preview      28531\n",
       "Name: event, dtype: int64"
      ]
     },
     "execution_count": 43,
     "metadata": {},
     "output_type": "execute_result"
    }
   ],
   "source": [
    "traffic_data['event'].value_counts()"
   ]
  },
  {
   "cell_type": "markdown",
   "id": "7611e207",
   "metadata": {},
   "source": [
    "The value_counts() function outputs the unique number of occurrences for each of values in the event column, which is 142015 for pageview. \n",
    "Also, a single row can be output for the number of pageview events."
   ]
  },
  {
   "cell_type": "code",
   "execution_count": 44,
   "id": "02072de4",
   "metadata": {},
   "outputs": [
    {
     "data": {
      "text/plain": [
       "142015"
      ]
     },
     "execution_count": 44,
     "metadata": {},
     "output_type": "execute_result"
    }
   ],
   "source": [
    "traffic_data[traffic_data['event'] == 'pageview'].shape[0]"
   ]
  },
  {
   "cell_type": "markdown",
   "id": "186ec689",
   "metadata": {},
   "source": [
    "In the second part of the question, employing a group by method couple with aggregate function and count the number of appearances will help in output the number of pageview per day."
   ]
  },
  {
   "cell_type": "code",
   "execution_count": 9,
   "id": "401728be",
   "metadata": {},
   "outputs": [
    {
     "data": {
      "text/plain": [
       "date\n",
       "2021-08-19    22366\n",
       "2021-08-20    21382\n",
       "2021-08-21    21349\n",
       "2021-08-22    20430\n",
       "2021-08-23    18646\n",
       "2021-08-24    18693\n",
       "2021-08-25    19149\n",
       "Name: event, dtype: int64"
      ]
     },
     "execution_count": 9,
     "metadata": {},
     "output_type": "execute_result"
    }
   ],
   "source": [
    "traffic_data[traffic_data['event'] == 'pageview'].groupby('date')['event'].count()"
   ]
  },
  {
   "cell_type": "code",
   "execution_count": 10,
   "id": "f256842a",
   "metadata": {},
   "outputs": [
    {
     "data": {
      "text/plain": [
       "103711"
      ]
     },
     "execution_count": 10,
     "metadata": {},
     "output_type": "execute_result"
    }
   ],
   "source": [
    "# check for duplicates in the dataset.\n",
    "traffic_data.duplicated().sum()"
   ]
  },
  {
   "cell_type": "markdown",
   "id": "a04dcc0c",
   "metadata": {},
   "source": [
    "A further review of the data shows that there are duplicates (103711), which implies that a user may visit the page more than ones and it is counted for every visit."
   ]
  },
  {
   "cell_type": "code",
   "execution_count": 11,
   "id": "68104a09",
   "metadata": {},
   "outputs": [],
   "source": [
    "# Drop the duplicates in the dataset\n",
    "drop_duplicates = traffic_data.drop_duplicates()"
   ]
  },
  {
   "cell_type": "markdown",
   "id": "73086c87",
   "metadata": {},
   "source": [
    "Similar to the output above, we can have the number of pageview events using both methods/approach"
   ]
  },
  {
   "cell_type": "code",
   "execution_count": 12,
   "id": "c89e6e76",
   "metadata": {},
   "outputs": [
    {
     "data": {
      "text/plain": [
       "pageview    73360\n",
       "click       32499\n",
       "preview     16708\n",
       "Name: event, dtype: int64"
      ]
     },
     "execution_count": 12,
     "metadata": {},
     "output_type": "execute_result"
    }
   ],
   "source": [
    "# number of pageview events\n",
    "drop_duplicates['event'].value_counts()"
   ]
  },
  {
   "cell_type": "markdown",
   "id": "1e3912a6",
   "metadata": {},
   "source": [
    "The number of pageview events is 73360 after duplicates have been removed/dropped."
   ]
  },
  {
   "cell_type": "code",
   "execution_count": 13,
   "id": "3e50e8a2",
   "metadata": {},
   "outputs": [
    {
     "data": {
      "text/plain": [
       "73360"
      ]
     },
     "execution_count": 13,
     "metadata": {},
     "output_type": "execute_result"
    }
   ],
   "source": [
    "# number of pageview events\n",
    "drop_duplicates[drop_duplicates['event'] == 'pageview'].shape[0]"
   ]
  },
  {
   "cell_type": "markdown",
   "id": "7a5d9727",
   "metadata": {},
   "source": [
    "This also confimred the number of pageview events as 73360 after duplicates have been removed/dropped."
   ]
  },
  {
   "cell_type": "code",
   "execution_count": 14,
   "id": "b039bd0b",
   "metadata": {},
   "outputs": [
    {
     "data": {
      "text/plain": [
       "date\n",
       "2021-08-19    13006\n",
       "2021-08-20    11088\n",
       "2021-08-21     9939\n",
       "2021-08-22     9982\n",
       "2021-08-23     9722\n",
       "2021-08-24     9705\n",
       "2021-08-25     9918\n",
       "Name: event, dtype: int64"
      ]
     },
     "execution_count": 14,
     "metadata": {},
     "output_type": "execute_result"
    }
   ],
   "source": [
    "# number of pageview events per day\n",
    "drop_duplicates[drop_duplicates['event'] == 'pageview'].groupby('date')['event'].count()"
   ]
  },
  {
   "cell_type": "markdown",
   "id": "67444669",
   "metadata": {},
   "source": [
    "**2.** **What about the other recorded events?**"
   ]
  },
  {
   "cell_type": "markdown",
   "id": "5003cab9",
   "metadata": {},
   "source": [
    "From question 1, there are 3 distinct/unique values in event column, creating a set of the three values and drop/delete the pageview event."
   ]
  },
  {
   "cell_type": "code",
   "execution_count": 15,
   "id": "604e4a92",
   "metadata": {},
   "outputs": [],
   "source": [
    "list_event = list(traffic_data['event'].unique())"
   ]
  },
  {
   "cell_type": "code",
   "execution_count": 16,
   "id": "38f40cbf",
   "metadata": {},
   "outputs": [
    {
     "data": {
      "text/plain": [
       "['click', 'preview']"
      ]
     },
     "execution_count": 16,
     "metadata": {},
     "output_type": "execute_result"
    }
   ],
   "source": [
    "list_event.remove('pageview')\n",
    "list_event"
   ]
  },
  {
   "cell_type": "markdown",
   "id": "c592c644",
   "metadata": {},
   "source": [
    "Extract the event column and loop through it using the cereated set above."
   ]
  },
  {
   "cell_type": "code",
   "execution_count": 17,
   "id": "7a88195f",
   "metadata": {},
   "outputs": [
    {
     "name": "stdout",
     "output_type": "stream",
     "text": [
      "\n",
      "Total events for click is 55732\n",
      "\n",
      "Total events for preview is 28531\n"
     ]
    }
   ],
   "source": [
    "# output the total events for each of click and preview\n",
    "for i in list_event:\n",
    "    total_event = traffic_data[traffic_data['event'] == i].shape[0]\n",
    "    print('\\nTotal events for', i, 'is', total_event)"
   ]
  },
  {
   "cell_type": "code",
   "execution_count": 18,
   "id": "e738f793",
   "metadata": {},
   "outputs": [
    {
     "name": "stdout",
     "output_type": "stream",
     "text": [
      "\n",
      "Total event per day for click is:\n",
      " date\n",
      "2021-08-19    3788\n",
      "2021-08-20    4222\n",
      "2021-08-21    4663\n",
      "2021-08-22    4349\n",
      "2021-08-23    3847\n",
      "2021-08-24    3840\n",
      "2021-08-25    3822\n",
      "Name: event, dtype: int64\n",
      "\n",
      "Total event per day for preview is:\n",
      " date\n",
      "2021-08-19    3788\n",
      "2021-08-20    4222\n",
      "2021-08-21    4663\n",
      "2021-08-22    4349\n",
      "2021-08-23    3847\n",
      "2021-08-24    3840\n",
      "2021-08-25    3822\n",
      "Name: event, dtype: int64\n"
     ]
    }
   ],
   "source": [
    "# output the total events per day for each of the click and preview\n",
    "for j in list_event:\n",
    "    total_event_perday = traffic_data[traffic_data['event'] == i].groupby('date')['event'].count()\n",
    "    print('\\nTotal event per day for', j, 'is:\\n', total_event_perday)    "
   ]
  },
  {
   "cell_type": "code",
   "execution_count": 19,
   "id": "9da4b97d",
   "metadata": {},
   "outputs": [
    {
     "name": "stdout",
     "output_type": "stream",
     "text": [
      "\n",
      "Total events for click is 16708\n",
      "\n",
      "Total events for preview is 16708\n"
     ]
    }
   ],
   "source": [
    "# output the total events for each of click and preview\n",
    "for n in list_event:\n",
    "    total_event = drop_duplicates[drop_duplicates['event'] == i].shape[0]\n",
    "    print('\\nTotal events for', n, 'is', total_event)"
   ]
  },
  {
   "cell_type": "code",
   "execution_count": 20,
   "id": "687fea44",
   "metadata": {},
   "outputs": [
    {
     "name": "stdout",
     "output_type": "stream",
     "text": [
      "\n",
      "Total event per day for click is:\n",
      " date\n",
      "2021-08-19    2290\n",
      "2021-08-20    2449\n",
      "2021-08-21    2483\n",
      "2021-08-22    2524\n",
      "2021-08-23    2379\n",
      "2021-08-24    2355\n",
      "2021-08-25    2228\n",
      "Name: event, dtype: int64\n",
      "\n",
      "Total event per day for preview is:\n",
      " date\n",
      "2021-08-19    2290\n",
      "2021-08-20    2449\n",
      "2021-08-21    2483\n",
      "2021-08-22    2524\n",
      "2021-08-23    2379\n",
      "2021-08-24    2355\n",
      "2021-08-25    2228\n",
      "Name: event, dtype: int64\n"
     ]
    }
   ],
   "source": [
    "# output the total events per day for each of the click and preview\n",
    "for m in list_event:\n",
    "    total_event_perday = drop_duplicates[drop_duplicates['event'] == i].groupby('date')['event'].count()\n",
    "    print('\\nTotal event per day for', m, 'is:\\n', total_event_perday) "
   ]
  },
  {
   "cell_type": "markdown",
   "id": "feb4085e",
   "metadata": {},
   "source": [
    "**3.** **Which countries did the pageviews come from?**"
   ]
  },
  {
   "cell_type": "code",
   "execution_count": 21,
   "id": "e86e47d1",
   "metadata": {},
   "outputs": [],
   "source": [
    "# filter the pageview event and output the unique country as well as drop null values\n",
    "pageview_country = pd.DataFrame(traffic_data[traffic_data['event']=='pageview']['country']).dropna()"
   ]
  },
  {
   "cell_type": "code",
   "execution_count": 22,
   "id": "abdefdf3",
   "metadata": {},
   "outputs": [
    {
     "data": {
      "text/html": [
       "<div>\n",
       "<style scoped>\n",
       "    .dataframe tbody tr th:only-of-type {\n",
       "        vertical-align: middle;\n",
       "    }\n",
       "\n",
       "    .dataframe tbody tr th {\n",
       "        vertical-align: top;\n",
       "    }\n",
       "\n",
       "    .dataframe thead th {\n",
       "        text-align: right;\n",
       "    }\n",
       "</style>\n",
       "<table border=\"1\" class=\"dataframe\">\n",
       "  <thead>\n",
       "    <tr style=\"text-align: right;\">\n",
       "      <th></th>\n",
       "      <th>0</th>\n",
       "    </tr>\n",
       "  </thead>\n",
       "  <tbody>\n",
       "    <tr>\n",
       "      <th>0</th>\n",
       "      <td>Saudi Arabia</td>\n",
       "    </tr>\n",
       "    <tr>\n",
       "      <th>1</th>\n",
       "      <td>United States</td>\n",
       "    </tr>\n",
       "    <tr>\n",
       "      <th>2</th>\n",
       "      <td>Ireland</td>\n",
       "    </tr>\n",
       "    <tr>\n",
       "      <th>3</th>\n",
       "      <td>United Kingdom</td>\n",
       "    </tr>\n",
       "    <tr>\n",
       "      <th>4</th>\n",
       "      <td>France</td>\n",
       "    </tr>\n",
       "    <tr>\n",
       "      <th>...</th>\n",
       "      <td>...</td>\n",
       "    </tr>\n",
       "    <tr>\n",
       "      <th>206</th>\n",
       "      <td>Afghanistan</td>\n",
       "    </tr>\n",
       "    <tr>\n",
       "      <th>207</th>\n",
       "      <td>Central African Republic</td>\n",
       "    </tr>\n",
       "    <tr>\n",
       "      <th>208</th>\n",
       "      <td>Guernsey</td>\n",
       "    </tr>\n",
       "    <tr>\n",
       "      <th>209</th>\n",
       "      <td>Sint Maarten</td>\n",
       "    </tr>\n",
       "    <tr>\n",
       "      <th>210</th>\n",
       "      <td>Saint Martin</td>\n",
       "    </tr>\n",
       "  </tbody>\n",
       "</table>\n",
       "<p>211 rows × 1 columns</p>\n",
       "</div>"
      ],
      "text/plain": [
       "                            0\n",
       "0                Saudi Arabia\n",
       "1               United States\n",
       "2                     Ireland\n",
       "3              United Kingdom\n",
       "4                      France\n",
       "..                        ...\n",
       "206               Afghanistan\n",
       "207  Central African Republic\n",
       "208                  Guernsey\n",
       "209              Sint Maarten\n",
       "210              Saint Martin\n",
       "\n",
       "[211 rows x 1 columns]"
      ]
     },
     "execution_count": 22,
     "metadata": {},
     "output_type": "execute_result"
    }
   ],
   "source": [
    "pd.DataFrame(pageview_country['country'].unique())"
   ]
  },
  {
   "cell_type": "markdown",
   "id": "ff4e940a",
   "metadata": {},
   "source": [
    "**4. What was the overall click rate (clicks/pageviews)?**"
   ]
  },
  {
   "cell_type": "markdown",
   "id": "aae89038",
   "metadata": {},
   "source": [
    "The overall click rate is the ratio of the number of the links that are clicked to the number of links are as well as pageviewed"
   ]
  },
  {
   "cell_type": "code",
   "execution_count": 23,
   "id": "dc394294",
   "metadata": {},
   "outputs": [
    {
     "data": {
      "text/html": [
       "<div>\n",
       "<style scoped>\n",
       "    .dataframe tbody tr th:only-of-type {\n",
       "        vertical-align: middle;\n",
       "    }\n",
       "\n",
       "    .dataframe tbody tr th {\n",
       "        vertical-align: top;\n",
       "    }\n",
       "\n",
       "    .dataframe thead th {\n",
       "        text-align: right;\n",
       "    }\n",
       "</style>\n",
       "<table border=\"1\" class=\"dataframe\">\n",
       "  <thead>\n",
       "    <tr style=\"text-align: right;\">\n",
       "      <th></th>\n",
       "      <th>linkid</th>\n",
       "      <th>event</th>\n",
       "    </tr>\n",
       "  </thead>\n",
       "  <tbody>\n",
       "    <tr>\n",
       "      <th>0</th>\n",
       "      <td>00126b32-0c35-507b-981c-02c80d2aa8e7</td>\n",
       "      <td>2</td>\n",
       "    </tr>\n",
       "    <tr>\n",
       "      <th>1</th>\n",
       "      <td>004b9724-abca-5481-b6e9-6148a7ca00a5</td>\n",
       "      <td>1</td>\n",
       "    </tr>\n",
       "    <tr>\n",
       "      <th>2</th>\n",
       "      <td>0063a982-41cd-5629-96d0-e1c4dd72ea11</td>\n",
       "      <td>2</td>\n",
       "    </tr>\n",
       "    <tr>\n",
       "      <th>3</th>\n",
       "      <td>006af6a0-1f0d-4b0c-93bf-756af9071c06</td>\n",
       "      <td>8</td>\n",
       "    </tr>\n",
       "    <tr>\n",
       "      <th>4</th>\n",
       "      <td>00759b81-3f04-4a61-b934-f8fb3185f4a0</td>\n",
       "      <td>3</td>\n",
       "    </tr>\n",
       "    <tr>\n",
       "      <th>...</th>\n",
       "      <td>...</td>\n",
       "      <td>...</td>\n",
       "    </tr>\n",
       "    <tr>\n",
       "      <th>2250</th>\n",
       "      <td>ffd8d5a7-91bc-48e1-a692-c26fca8a8ead</td>\n",
       "      <td>29</td>\n",
       "    </tr>\n",
       "    <tr>\n",
       "      <th>2251</th>\n",
       "      <td>fff38ca0-8043-50cd-a5f1-f65ebb7105c5</td>\n",
       "      <td>1</td>\n",
       "    </tr>\n",
       "    <tr>\n",
       "      <th>2252</th>\n",
       "      <td>fff84c0e-90a1-59d8-9997-adc909d50e16</td>\n",
       "      <td>1</td>\n",
       "    </tr>\n",
       "    <tr>\n",
       "      <th>2253</th>\n",
       "      <td>fffc17a7-f935-5d3e-bd3e-d761fd80d479</td>\n",
       "      <td>1</td>\n",
       "    </tr>\n",
       "    <tr>\n",
       "      <th>2254</th>\n",
       "      <td>fffd0045-29de-522b-b5d8-35786363bf07</td>\n",
       "      <td>1</td>\n",
       "    </tr>\n",
       "  </tbody>\n",
       "</table>\n",
       "<p>2255 rows × 2 columns</p>\n",
       "</div>"
      ],
      "text/plain": [
       "                                    linkid  event\n",
       "0     00126b32-0c35-507b-981c-02c80d2aa8e7      2\n",
       "1     004b9724-abca-5481-b6e9-6148a7ca00a5      1\n",
       "2     0063a982-41cd-5629-96d0-e1c4dd72ea11      2\n",
       "3     006af6a0-1f0d-4b0c-93bf-756af9071c06      8\n",
       "4     00759b81-3f04-4a61-b934-f8fb3185f4a0      3\n",
       "...                                    ...    ...\n",
       "2250  ffd8d5a7-91bc-48e1-a692-c26fca8a8ead     29\n",
       "2251  fff38ca0-8043-50cd-a5f1-f65ebb7105c5      1\n",
       "2252  fff84c0e-90a1-59d8-9997-adc909d50e16      1\n",
       "2253  fffc17a7-f935-5d3e-bd3e-d761fd80d479      1\n",
       "2254  fffd0045-29de-522b-b5d8-35786363bf07      1\n",
       "\n",
       "[2255 rows x 2 columns]"
      ]
     },
     "execution_count": 23,
     "metadata": {},
     "output_type": "execute_result"
    }
   ],
   "source": [
    "# first Filter the click events and group by the linkid, then coun\n",
    "click_links = traffic_data[traffic_data['event'] == 'click'].groupby('linkid')['event'].count().reset_index()\n",
    "click_links"
   ]
  },
  {
   "cell_type": "code",
   "execution_count": 24,
   "id": "0f3def9c",
   "metadata": {},
   "outputs": [
    {
     "data": {
      "text/html": [
       "<div>\n",
       "<style scoped>\n",
       "    .dataframe tbody tr th:only-of-type {\n",
       "        vertical-align: middle;\n",
       "    }\n",
       "\n",
       "    .dataframe tbody tr th {\n",
       "        vertical-align: top;\n",
       "    }\n",
       "\n",
       "    .dataframe thead th {\n",
       "        text-align: right;\n",
       "    }\n",
       "</style>\n",
       "<table border=\"1\" class=\"dataframe\">\n",
       "  <thead>\n",
       "    <tr style=\"text-align: right;\">\n",
       "      <th></th>\n",
       "      <th>linkid</th>\n",
       "      <th>event</th>\n",
       "    </tr>\n",
       "  </thead>\n",
       "  <tbody>\n",
       "    <tr>\n",
       "      <th>0</th>\n",
       "      <td>00073307-ae96-5089-a117-4783afb42f8e</td>\n",
       "      <td>2</td>\n",
       "    </tr>\n",
       "    <tr>\n",
       "      <th>1</th>\n",
       "      <td>00126b32-0c35-507b-981c-02c80d2aa8e7</td>\n",
       "      <td>2</td>\n",
       "    </tr>\n",
       "    <tr>\n",
       "      <th>2</th>\n",
       "      <td>0018cfff-50a1-5984-9715-01ef2d11a49a</td>\n",
       "      <td>1</td>\n",
       "    </tr>\n",
       "    <tr>\n",
       "      <th>3</th>\n",
       "      <td>0033934b-5d16-5a06-af58-d087bcdd3680</td>\n",
       "      <td>1</td>\n",
       "    </tr>\n",
       "    <tr>\n",
       "      <th>4</th>\n",
       "      <td>0034d6cf-3bd8-5ffe-aafc-b3959fc48608</td>\n",
       "      <td>1</td>\n",
       "    </tr>\n",
       "    <tr>\n",
       "      <th>...</th>\n",
       "      <td>...</td>\n",
       "      <td>...</td>\n",
       "    </tr>\n",
       "    <tr>\n",
       "      <th>3832</th>\n",
       "      <td>fff38ca0-8043-50cd-a5f1-f65ebb7105c5</td>\n",
       "      <td>1</td>\n",
       "    </tr>\n",
       "    <tr>\n",
       "      <th>3833</th>\n",
       "      <td>fff4e5f0-4ee5-5fe7-aa30-e870edaf6ed7</td>\n",
       "      <td>2</td>\n",
       "    </tr>\n",
       "    <tr>\n",
       "      <th>3834</th>\n",
       "      <td>fff84c0e-90a1-59d8-9997-adc909d50e16</td>\n",
       "      <td>1</td>\n",
       "    </tr>\n",
       "    <tr>\n",
       "      <th>3835</th>\n",
       "      <td>fffc17a7-f935-5d3e-bd3e-d761fd80d479</td>\n",
       "      <td>2</td>\n",
       "    </tr>\n",
       "    <tr>\n",
       "      <th>3836</th>\n",
       "      <td>fffd0045-29de-522b-b5d8-35786363bf07</td>\n",
       "      <td>2</td>\n",
       "    </tr>\n",
       "  </tbody>\n",
       "</table>\n",
       "<p>3837 rows × 2 columns</p>\n",
       "</div>"
      ],
      "text/plain": [
       "                                    linkid  event\n",
       "0     00073307-ae96-5089-a117-4783afb42f8e      2\n",
       "1     00126b32-0c35-507b-981c-02c80d2aa8e7      2\n",
       "2     0018cfff-50a1-5984-9715-01ef2d11a49a      1\n",
       "3     0033934b-5d16-5a06-af58-d087bcdd3680      1\n",
       "4     0034d6cf-3bd8-5ffe-aafc-b3959fc48608      1\n",
       "...                                    ...    ...\n",
       "3832  fff38ca0-8043-50cd-a5f1-f65ebb7105c5      1\n",
       "3833  fff4e5f0-4ee5-5fe7-aa30-e870edaf6ed7      2\n",
       "3834  fff84c0e-90a1-59d8-9997-adc909d50e16      1\n",
       "3835  fffc17a7-f935-5d3e-bd3e-d761fd80d479      2\n",
       "3836  fffd0045-29de-522b-b5d8-35786363bf07      2\n",
       "\n",
       "[3837 rows x 2 columns]"
      ]
     },
     "execution_count": 24,
     "metadata": {},
     "output_type": "execute_result"
    }
   ],
   "source": [
    "# first Filter the pageview events and group by the linkid, then count\n",
    "pageview_links = traffic_data[traffic_data['event'] == 'pageview'].groupby('linkid')['event'].count().reset_index()\n",
    "pageview_links"
   ]
  },
  {
   "cell_type": "markdown",
   "id": "a3cc0b45",
   "metadata": {},
   "source": [
    "To find/calculate the click rate, we need to merge the two output above - click_links and pageview_links"
   ]
  },
  {
   "cell_type": "code",
   "execution_count": 25,
   "id": "e5bd66c0",
   "metadata": {},
   "outputs": [
    {
     "data": {
      "text/html": [
       "<div>\n",
       "<style scoped>\n",
       "    .dataframe tbody tr th:only-of-type {\n",
       "        vertical-align: middle;\n",
       "    }\n",
       "\n",
       "    .dataframe tbody tr th {\n",
       "        vertical-align: top;\n",
       "    }\n",
       "\n",
       "    .dataframe thead th {\n",
       "        text-align: right;\n",
       "    }\n",
       "</style>\n",
       "<table border=\"1\" class=\"dataframe\">\n",
       "  <thead>\n",
       "    <tr style=\"text-align: right;\">\n",
       "      <th></th>\n",
       "      <th>linkid</th>\n",
       "      <th>event_click</th>\n",
       "      <th>event_pageview</th>\n",
       "    </tr>\n",
       "  </thead>\n",
       "  <tbody>\n",
       "    <tr>\n",
       "      <th>0</th>\n",
       "      <td>00126b32-0c35-507b-981c-02c80d2aa8e7</td>\n",
       "      <td>2</td>\n",
       "      <td>2</td>\n",
       "    </tr>\n",
       "    <tr>\n",
       "      <th>1</th>\n",
       "      <td>004b9724-abca-5481-b6e9-6148a7ca00a5</td>\n",
       "      <td>1</td>\n",
       "      <td>1</td>\n",
       "    </tr>\n",
       "    <tr>\n",
       "      <th>2</th>\n",
       "      <td>0063a982-41cd-5629-96d0-e1c4dd72ea11</td>\n",
       "      <td>2</td>\n",
       "      <td>3</td>\n",
       "    </tr>\n",
       "    <tr>\n",
       "      <th>3</th>\n",
       "      <td>006af6a0-1f0d-4b0c-93bf-756af9071c06</td>\n",
       "      <td>8</td>\n",
       "      <td>36</td>\n",
       "    </tr>\n",
       "    <tr>\n",
       "      <th>4</th>\n",
       "      <td>00759b81-3f04-4a61-b934-f8fb3185f4a0</td>\n",
       "      <td>3</td>\n",
       "      <td>4</td>\n",
       "    </tr>\n",
       "    <tr>\n",
       "      <th>...</th>\n",
       "      <td>...</td>\n",
       "      <td>...</td>\n",
       "      <td>...</td>\n",
       "    </tr>\n",
       "    <tr>\n",
       "      <th>2248</th>\n",
       "      <td>ffd8d5a7-91bc-48e1-a692-c26fca8a8ead</td>\n",
       "      <td>29</td>\n",
       "      <td>84</td>\n",
       "    </tr>\n",
       "    <tr>\n",
       "      <th>2249</th>\n",
       "      <td>fff38ca0-8043-50cd-a5f1-f65ebb7105c5</td>\n",
       "      <td>1</td>\n",
       "      <td>1</td>\n",
       "    </tr>\n",
       "    <tr>\n",
       "      <th>2250</th>\n",
       "      <td>fff84c0e-90a1-59d8-9997-adc909d50e16</td>\n",
       "      <td>1</td>\n",
       "      <td>1</td>\n",
       "    </tr>\n",
       "    <tr>\n",
       "      <th>2251</th>\n",
       "      <td>fffc17a7-f935-5d3e-bd3e-d761fd80d479</td>\n",
       "      <td>1</td>\n",
       "      <td>2</td>\n",
       "    </tr>\n",
       "    <tr>\n",
       "      <th>2252</th>\n",
       "      <td>fffd0045-29de-522b-b5d8-35786363bf07</td>\n",
       "      <td>1</td>\n",
       "      <td>2</td>\n",
       "    </tr>\n",
       "  </tbody>\n",
       "</table>\n",
       "<p>2253 rows × 3 columns</p>\n",
       "</div>"
      ],
      "text/plain": [
       "                                    linkid  event_click  event_pageview\n",
       "0     00126b32-0c35-507b-981c-02c80d2aa8e7            2               2\n",
       "1     004b9724-abca-5481-b6e9-6148a7ca00a5            1               1\n",
       "2     0063a982-41cd-5629-96d0-e1c4dd72ea11            2               3\n",
       "3     006af6a0-1f0d-4b0c-93bf-756af9071c06            8              36\n",
       "4     00759b81-3f04-4a61-b934-f8fb3185f4a0            3               4\n",
       "...                                    ...          ...             ...\n",
       "2248  ffd8d5a7-91bc-48e1-a692-c26fca8a8ead           29              84\n",
       "2249  fff38ca0-8043-50cd-a5f1-f65ebb7105c5            1               1\n",
       "2250  fff84c0e-90a1-59d8-9997-adc909d50e16            1               1\n",
       "2251  fffc17a7-f935-5d3e-bd3e-d761fd80d479            1               2\n",
       "2252  fffd0045-29de-522b-b5d8-35786363bf07            1               2\n",
       "\n",
       "[2253 rows x 3 columns]"
      ]
     },
     "execution_count": 25,
     "metadata": {},
     "output_type": "execute_result"
    }
   ],
   "source": [
    "merg_click_pageview_links = click_links.merge(pageview_links, on = 'linkid', how='inner', suffixes=('_click', '_pageview'))\n",
    "merg_click_pageview_links"
   ]
  },
  {
   "cell_type": "code",
   "execution_count": 26,
   "id": "a2b55654",
   "metadata": {},
   "outputs": [
    {
     "data": {
      "text/html": [
       "<div>\n",
       "<style scoped>\n",
       "    .dataframe tbody tr th:only-of-type {\n",
       "        vertical-align: middle;\n",
       "    }\n",
       "\n",
       "    .dataframe tbody tr th {\n",
       "        vertical-align: top;\n",
       "    }\n",
       "\n",
       "    .dataframe thead th {\n",
       "        text-align: right;\n",
       "    }\n",
       "</style>\n",
       "<table border=\"1\" class=\"dataframe\">\n",
       "  <thead>\n",
       "    <tr style=\"text-align: right;\">\n",
       "      <th></th>\n",
       "      <th>linkid</th>\n",
       "      <th>event_click</th>\n",
       "      <th>event_pageview</th>\n",
       "      <th>click_rate</th>\n",
       "    </tr>\n",
       "  </thead>\n",
       "  <tbody>\n",
       "    <tr>\n",
       "      <th>0</th>\n",
       "      <td>00126b32-0c35-507b-981c-02c80d2aa8e7</td>\n",
       "      <td>2</td>\n",
       "      <td>2</td>\n",
       "      <td>1.000000</td>\n",
       "    </tr>\n",
       "    <tr>\n",
       "      <th>1</th>\n",
       "      <td>004b9724-abca-5481-b6e9-6148a7ca00a5</td>\n",
       "      <td>1</td>\n",
       "      <td>1</td>\n",
       "      <td>1.000000</td>\n",
       "    </tr>\n",
       "    <tr>\n",
       "      <th>2</th>\n",
       "      <td>0063a982-41cd-5629-96d0-e1c4dd72ea11</td>\n",
       "      <td>2</td>\n",
       "      <td>3</td>\n",
       "      <td>0.666667</td>\n",
       "    </tr>\n",
       "    <tr>\n",
       "      <th>3</th>\n",
       "      <td>006af6a0-1f0d-4b0c-93bf-756af9071c06</td>\n",
       "      <td>8</td>\n",
       "      <td>36</td>\n",
       "      <td>0.222222</td>\n",
       "    </tr>\n",
       "    <tr>\n",
       "      <th>4</th>\n",
       "      <td>00759b81-3f04-4a61-b934-f8fb3185f4a0</td>\n",
       "      <td>3</td>\n",
       "      <td>4</td>\n",
       "      <td>0.750000</td>\n",
       "    </tr>\n",
       "    <tr>\n",
       "      <th>...</th>\n",
       "      <td>...</td>\n",
       "      <td>...</td>\n",
       "      <td>...</td>\n",
       "      <td>...</td>\n",
       "    </tr>\n",
       "    <tr>\n",
       "      <th>2248</th>\n",
       "      <td>ffd8d5a7-91bc-48e1-a692-c26fca8a8ead</td>\n",
       "      <td>29</td>\n",
       "      <td>84</td>\n",
       "      <td>0.345238</td>\n",
       "    </tr>\n",
       "    <tr>\n",
       "      <th>2249</th>\n",
       "      <td>fff38ca0-8043-50cd-a5f1-f65ebb7105c5</td>\n",
       "      <td>1</td>\n",
       "      <td>1</td>\n",
       "      <td>1.000000</td>\n",
       "    </tr>\n",
       "    <tr>\n",
       "      <th>2250</th>\n",
       "      <td>fff84c0e-90a1-59d8-9997-adc909d50e16</td>\n",
       "      <td>1</td>\n",
       "      <td>1</td>\n",
       "      <td>1.000000</td>\n",
       "    </tr>\n",
       "    <tr>\n",
       "      <th>2251</th>\n",
       "      <td>fffc17a7-f935-5d3e-bd3e-d761fd80d479</td>\n",
       "      <td>1</td>\n",
       "      <td>2</td>\n",
       "      <td>0.500000</td>\n",
       "    </tr>\n",
       "    <tr>\n",
       "      <th>2252</th>\n",
       "      <td>fffd0045-29de-522b-b5d8-35786363bf07</td>\n",
       "      <td>1</td>\n",
       "      <td>2</td>\n",
       "      <td>0.500000</td>\n",
       "    </tr>\n",
       "  </tbody>\n",
       "</table>\n",
       "<p>2253 rows × 4 columns</p>\n",
       "</div>"
      ],
      "text/plain": [
       "                                    linkid  event_click  event_pageview  \\\n",
       "0     00126b32-0c35-507b-981c-02c80d2aa8e7            2               2   \n",
       "1     004b9724-abca-5481-b6e9-6148a7ca00a5            1               1   \n",
       "2     0063a982-41cd-5629-96d0-e1c4dd72ea11            2               3   \n",
       "3     006af6a0-1f0d-4b0c-93bf-756af9071c06            8              36   \n",
       "4     00759b81-3f04-4a61-b934-f8fb3185f4a0            3               4   \n",
       "...                                    ...          ...             ...   \n",
       "2248  ffd8d5a7-91bc-48e1-a692-c26fca8a8ead           29              84   \n",
       "2249  fff38ca0-8043-50cd-a5f1-f65ebb7105c5            1               1   \n",
       "2250  fff84c0e-90a1-59d8-9997-adc909d50e16            1               1   \n",
       "2251  fffc17a7-f935-5d3e-bd3e-d761fd80d479            1               2   \n",
       "2252  fffd0045-29de-522b-b5d8-35786363bf07            1               2   \n",
       "\n",
       "      click_rate  \n",
       "0       1.000000  \n",
       "1       1.000000  \n",
       "2       0.666667  \n",
       "3       0.222222  \n",
       "4       0.750000  \n",
       "...          ...  \n",
       "2248    0.345238  \n",
       "2249    1.000000  \n",
       "2250    1.000000  \n",
       "2251    0.500000  \n",
       "2252    0.500000  \n",
       "\n",
       "[2253 rows x 4 columns]"
      ]
     },
     "execution_count": 26,
     "metadata": {},
     "output_type": "execute_result"
    }
   ],
   "source": [
    "# Create a new column for the calculated click_rate\n",
    "merg_click_pageview_links['click_rate'] = merg_click_pageview_links['event_click'] / merg_click_pageview_links['event_pageview']\n",
    "merg_click_pageview_links"
   ]
  },
  {
   "cell_type": "markdown",
   "id": "096afd25",
   "metadata": {},
   "source": [
    "**5. How does the clickrate distribute across different links?**"
   ]
  },
  {
   "cell_type": "markdown",
   "id": "1cad134f",
   "metadata": {},
   "source": [
    "To have the clickrate distribution, I used the describe() method and vizualized it using box plot. And also used histogram to have a view the distribution distribution."
   ]
  },
  {
   "cell_type": "code",
   "execution_count": 27,
   "id": "e6a62a80",
   "metadata": {},
   "outputs": [
    {
     "data": {
      "text/plain": [
       "count    2253.000000\n",
       "mean        0.809920\n",
       "std         1.958030\n",
       "min         0.090909\n",
       "25%         0.500000\n",
       "50%         1.000000\n",
       "75%         1.000000\n",
       "max        92.300000\n",
       "Name: click_rate, dtype: float64"
      ]
     },
     "execution_count": 27,
     "metadata": {},
     "output_type": "execute_result"
    }
   ],
   "source": [
    "# decribe() method\n",
    "merg_click_pageview_links['click_rate'].describe()"
   ]
  },
  {
   "cell_type": "markdown",
   "id": "14fa2d13",
   "metadata": {},
   "source": [
    "The describe() method output the count, mean, standard deviation, min, max, 25, 50 and 70 percentiles for the click rate"
   ]
  },
  {
   "cell_type": "code",
   "execution_count": 28,
   "id": "b32bc7d8",
   "metadata": {},
   "outputs": [
    {
     "data": {
      "image/png": "[encoded data removed]",
      "text/plain": [
       "<Figure size 504x504 with 1 Axes>"
      ]
     },
     "metadata": {
      "needs_background": "light"
     },
     "output_type": "display_data"
    }
   ],
   "source": [
    "# Histogram plot showing the click rate distribution\n",
    "plt.figure(figsize=(7,7))\n",
    "plt.boxplot(merg_click_pageview_links['click_rate'])\n",
    "plt.show()"
   ]
  },
  {
   "cell_type": "markdown",
   "id": "b2af3de4",
   "metadata": {},
   "source": [
    "Althought the distribution patterns are a bit hidden on the standard boxplot probably due to smaller values, thus the need to plot the boxplot based on log. But the boxplot reveals that there are some outliers."
   ]
  },
  {
   "cell_type": "code",
   "execution_count": 29,
   "id": "38e84c42",
   "metadata": {},
   "outputs": [
    {
     "data": {
      "image/png": "[encoded data removed]",
      "text/plain": [
       "<Figure size 504x504 with 1 Axes>"
      ]
     },
     "metadata": {
      "needs_background": "light"
     },
     "output_type": "display_data"
    }
   ],
   "source": [
    "# plot histogram based on log of the data to have view the small values since they not so much revealing with standard boxplot\n",
    "plt.figure(figsize=(7,7))\n",
    "plt.boxplot(np.log(merg_click_pageview_links['click_rate']))\n",
    "plt.show()"
   ]
  },
  {
   "cell_type": "markdown",
   "id": "e7a2c731",
   "metadata": {},
   "source": [
    "It is observed that the click rate distribution is negatively skewed. The are about two outerliers above Q2 and many outliers below Q1. This suggests that there are some links that have been clicked that have being clicked multiple times in the same pageview."
   ]
  },
  {
   "cell_type": "code",
   "execution_count": 30,
   "id": "46d1b5e5",
   "metadata": {},
   "outputs": [
    {
     "data": {
      "image/png": "[encoded data removed]",
      "text/plain": [
       "<Figure size 432x288 with 1 Axes>"
      ]
     },
     "metadata": {
      "needs_background": "light"
     },
     "output_type": "display_data"
    }
   ],
   "source": [
    "n_bins = 50\n",
    "fig, ax = plt.subplots()\n",
    "plt.title('Click rate distribution across different links')\n",
    "plt.xlabel('log click_rate')\n",
    "plt.ylabel('frequency')\n",
    "ax.hist(np.log(merg_click_pageview_links['click_rate']), bins = n_bins, color='r')\n",
    "plt.show()"
   ]
  },
  {
   "cell_type": "markdown",
   "id": "f05e0422",
   "metadata": {},
   "source": [
    "The histogram also indicates that the distribution is skewed to the left (negatively skewed). Also, it is observed that there spikes at 0, which is a clickrate of 1, this implies that there are many links that have been clicked and viewd at exacly one time. The values less than 0 indicates that there are many links that have been viewed many times but clicked on fewer times."
   ]
  },
  {
   "cell_type": "markdown",
   "id": "e6009b77",
   "metadata": {},
   "source": [
    "**6. Is there any correlation between clicks and previews on a link? Is it significant? How large is the effect? Make sure to at least test for potential linear as well as categorical (think binary) relationships between both variables.**"
   ]
  },
  {
   "cell_type": "markdown",
   "id": "0c6535db",
   "metadata": {},
   "source": [
    "In other to find the correlation between clicks and preview, we first Filter each of click and preview events and group by the linkid, then count. Therefore, we need to filter out the events that are either click or preview and negelect pageview since it is not of concerns"
   ]
  },
  {
   "cell_type": "code",
   "execution_count": 31,
   "id": "28e47b25",
   "metadata": {},
   "outputs": [],
   "source": [
    "# filter click and preview events in traffic dataset\n",
    "click_preview = traffic_data[(traffic_data['event'] =='click') | (traffic_data['event'] =='preview')]"
   ]
  },
  {
   "cell_type": "code",
   "execution_count": 32,
   "id": "375f9212",
   "metadata": {},
   "outputs": [
    {
     "data": {
      "text/html": [
       "<div>\n",
       "<style scoped>\n",
       "    .dataframe tbody tr th:only-of-type {\n",
       "        vertical-align: middle;\n",
       "    }\n",
       "\n",
       "    .dataframe tbody tr th {\n",
       "        vertical-align: top;\n",
       "    }\n",
       "\n",
       "    .dataframe thead th {\n",
       "        text-align: right;\n",
       "    }\n",
       "</style>\n",
       "<table border=\"1\" class=\"dataframe\">\n",
       "  <thead>\n",
       "    <tr style=\"text-align: right;\">\n",
       "      <th></th>\n",
       "      <th>event</th>\n",
       "      <th>date</th>\n",
       "      <th>country</th>\n",
       "      <th>city</th>\n",
       "      <th>artist</th>\n",
       "      <th>album</th>\n",
       "      <th>track</th>\n",
       "      <th>isrc</th>\n",
       "      <th>linkid</th>\n",
       "    </tr>\n",
       "  </thead>\n",
       "  <tbody>\n",
       "    <tr>\n",
       "      <th>0</th>\n",
       "      <td>click</td>\n",
       "      <td>2021-08-21</td>\n",
       "      <td>Saudi Arabia</td>\n",
       "      <td>Jeddah</td>\n",
       "      <td>Tesher</td>\n",
       "      <td>Jalebi Baby</td>\n",
       "      <td>Jalebi Baby</td>\n",
       "      <td>QZNWQ2070741</td>\n",
       "      <td>2d896d31-97b6-4869-967b-1c5fb9cd4bb8</td>\n",
       "    </tr>\n",
       "    <tr>\n",
       "      <th>1</th>\n",
       "      <td>click</td>\n",
       "      <td>2021-08-21</td>\n",
       "      <td>Saudi Arabia</td>\n",
       "      <td>Jeddah</td>\n",
       "      <td>Tesher</td>\n",
       "      <td>Jalebi Baby</td>\n",
       "      <td>Jalebi Baby</td>\n",
       "      <td>QZNWQ2070741</td>\n",
       "      <td>2d896d31-97b6-4869-967b-1c5fb9cd4bb8</td>\n",
       "    </tr>\n",
       "    <tr>\n",
       "      <th>2</th>\n",
       "      <td>click</td>\n",
       "      <td>2021-08-21</td>\n",
       "      <td>India</td>\n",
       "      <td>Ludhiana</td>\n",
       "      <td>Reyanna Maria</td>\n",
       "      <td>So Pretty</td>\n",
       "      <td>So Pretty</td>\n",
       "      <td>USUM72100871</td>\n",
       "      <td>23199824-9cf5-4b98-942a-34965c3b0cc2</td>\n",
       "    </tr>\n",
       "    <tr>\n",
       "      <th>3</th>\n",
       "      <td>click</td>\n",
       "      <td>2021-08-21</td>\n",
       "      <td>France</td>\n",
       "      <td>Unknown</td>\n",
       "      <td>Simone &amp; Simaria, Sebastian Yatra</td>\n",
       "      <td>No Llores Más</td>\n",
       "      <td>No Llores Más</td>\n",
       "      <td>BRUM72003904</td>\n",
       "      <td>35573248-4e49-47c7-af80-08a960fa74cd</td>\n",
       "    </tr>\n",
       "    <tr>\n",
       "      <th>4</th>\n",
       "      <td>click</td>\n",
       "      <td>2021-08-21</td>\n",
       "      <td>Maldives</td>\n",
       "      <td>Malé</td>\n",
       "      <td>Tesher</td>\n",
       "      <td>Jalebi Baby</td>\n",
       "      <td>Jalebi Baby</td>\n",
       "      <td>QZNWQ2070741</td>\n",
       "      <td>2d896d31-97b6-4869-967b-1c5fb9cd4bb8</td>\n",
       "    </tr>\n",
       "  </tbody>\n",
       "</table>\n",
       "</div>"
      ],
      "text/plain": [
       "   event        date       country      city  \\\n",
       "0  click  2021-08-21  Saudi Arabia    Jeddah   \n",
       "1  click  2021-08-21  Saudi Arabia    Jeddah   \n",
       "2  click  2021-08-21         India  Ludhiana   \n",
       "3  click  2021-08-21        France   Unknown   \n",
       "4  click  2021-08-21      Maldives      Malé   \n",
       "\n",
       "                              artist          album          track  \\\n",
       "0                             Tesher    Jalebi Baby    Jalebi Baby   \n",
       "1                             Tesher    Jalebi Baby    Jalebi Baby   \n",
       "2                      Reyanna Maria      So Pretty      So Pretty   \n",
       "3  Simone & Simaria, Sebastian Yatra  No Llores Más  No Llores Más   \n",
       "4                             Tesher    Jalebi Baby    Jalebi Baby   \n",
       "\n",
       "           isrc                                linkid  \n",
       "0  QZNWQ2070741  2d896d31-97b6-4869-967b-1c5fb9cd4bb8  \n",
       "1  QZNWQ2070741  2d896d31-97b6-4869-967b-1c5fb9cd4bb8  \n",
       "2  USUM72100871  23199824-9cf5-4b98-942a-34965c3b0cc2  \n",
       "3  BRUM72003904  35573248-4e49-47c7-af80-08a960fa74cd  \n",
       "4  QZNWQ2070741  2d896d31-97b6-4869-967b-1c5fb9cd4bb8  "
      ]
     },
     "execution_count": 32,
     "metadata": {},
     "output_type": "execute_result"
    }
   ],
   "source": [
    "click_preview.head(5)"
   ]
  },
  {
   "cell_type": "code",
   "execution_count": 33,
   "id": "107888d1",
   "metadata": {},
   "outputs": [
    {
     "data": {
      "text/html": [
       "<div>\n",
       "<style scoped>\n",
       "    .dataframe tbody tr th:only-of-type {\n",
       "        vertical-align: middle;\n",
       "    }\n",
       "\n",
       "    .dataframe tbody tr th {\n",
       "        vertical-align: top;\n",
       "    }\n",
       "\n",
       "    .dataframe thead th {\n",
       "        text-align: right;\n",
       "    }\n",
       "</style>\n",
       "<table border=\"1\" class=\"dataframe\">\n",
       "  <thead>\n",
       "    <tr style=\"text-align: right;\">\n",
       "      <th></th>\n",
       "      <th>event</th>\n",
       "      <th>date</th>\n",
       "      <th>country</th>\n",
       "      <th>city</th>\n",
       "      <th>artist</th>\n",
       "      <th>album</th>\n",
       "      <th>track</th>\n",
       "      <th>isrc</th>\n",
       "      <th>linkid</th>\n",
       "    </tr>\n",
       "  </thead>\n",
       "  <tbody>\n",
       "    <tr>\n",
       "      <th>count</th>\n",
       "      <td>84263</td>\n",
       "      <td>84263</td>\n",
       "      <td>84261</td>\n",
       "      <td>84261</td>\n",
       "      <td>84252</td>\n",
       "      <td>84262</td>\n",
       "      <td>84262</td>\n",
       "      <td>82036</td>\n",
       "      <td>84263</td>\n",
       "    </tr>\n",
       "    <tr>\n",
       "      <th>unique</th>\n",
       "      <td>2</td>\n",
       "      <td>7</td>\n",
       "      <td>206</td>\n",
       "      <td>8137</td>\n",
       "      <td>1549</td>\n",
       "      <td>2003</td>\n",
       "      <td>2155</td>\n",
       "      <td>628</td>\n",
       "      <td>2286</td>\n",
       "    </tr>\n",
       "    <tr>\n",
       "      <th>top</th>\n",
       "      <td>click</td>\n",
       "      <td>2021-08-19</td>\n",
       "      <td>Saudi Arabia</td>\n",
       "      <td>Jeddah</td>\n",
       "      <td>Tesher</td>\n",
       "      <td>Jalebi Baby</td>\n",
       "      <td>Jalebi Baby</td>\n",
       "      <td>QZNWQ2070741</td>\n",
       "      <td>2d896d31-97b6-4869-967b-1c5fb9cd4bb8</td>\n",
       "    </tr>\n",
       "    <tr>\n",
       "      <th>freq</th>\n",
       "      <td>55732</td>\n",
       "      <td>12995</td>\n",
       "      <td>18461</td>\n",
       "      <td>8893</td>\n",
       "      <td>15666</td>\n",
       "      <td>15666</td>\n",
       "      <td>15666</td>\n",
       "      <td>15666</td>\n",
       "      <td>15666</td>\n",
       "    </tr>\n",
       "  </tbody>\n",
       "</table>\n",
       "</div>"
      ],
      "text/plain": [
       "        event        date       country    city  artist        album  \\\n",
       "count   84263       84263         84261   84261   84252        84262   \n",
       "unique      2           7           206    8137    1549         2003   \n",
       "top     click  2021-08-19  Saudi Arabia  Jeddah  Tesher  Jalebi Baby   \n",
       "freq    55732       12995         18461    8893   15666        15666   \n",
       "\n",
       "              track          isrc                                linkid  \n",
       "count         84262         82036                                 84263  \n",
       "unique         2155           628                                  2286  \n",
       "top     Jalebi Baby  QZNWQ2070741  2d896d31-97b6-4869-967b-1c5fb9cd4bb8  \n",
       "freq          15666         15666                                 15666  "
      ]
     },
     "execution_count": 33,
     "metadata": {},
     "output_type": "execute_result"
    }
   ],
   "source": [
    "# have the descibe method to have information regarding the content\n",
    "#click_preview.describe().T\n",
    "click_preview.describe()"
   ]
  },
  {
   "cell_type": "code",
   "execution_count": 34,
   "id": "9c320d6d",
   "metadata": {},
   "outputs": [],
   "source": [
    "# To get the number of clicks on each link we filter only 'click' events and group them by the 'linkid' then count.\n",
    "click_links2 = click_preview[click_preview['event'] == 'click'].groupby('linkid')['event'].count().reset_index()\n",
    "\n",
    "# Similarly to get the number of previews on each link we filter only 'previews' events and group them by the 'linkid' then count.\n",
    "preview_links2 = click_preview[click_preview['event'] == 'preview'].groupby('linkid')['event'].count().reset_index()"
   ]
  },
  {
   "cell_type": "code",
   "execution_count": 35,
   "id": "c42aebee",
   "metadata": {},
   "outputs": [],
   "source": [
    "# Merge the click_links2 and preview_links2 to the click and preview filtered above - click_preview\n",
    "# merge click_links2 to click_preview and name it click_preview2\n",
    "click_preview2 = click_preview.merge(click_links2, on = 'linkid', how='left', suffixes=('_click_preview1', '_click'))\n",
    "\n",
    "# Merge preview_links2 to click_preview2\n",
    "click_preview2 = click_preview2.merge(preview_links2, on = 'linkid', how='left')"
   ]
  },
  {
   "cell_type": "code",
   "execution_count": 36,
   "id": "6e39b698",
   "metadata": {},
   "outputs": [
    {
     "data": {
      "text/html": [
       "<div>\n",
       "<style scoped>\n",
       "    .dataframe tbody tr th:only-of-type {\n",
       "        vertical-align: middle;\n",
       "    }\n",
       "\n",
       "    .dataframe tbody tr th {\n",
       "        vertical-align: top;\n",
       "    }\n",
       "\n",
       "    .dataframe thead th {\n",
       "        text-align: right;\n",
       "    }\n",
       "</style>\n",
       "<table border=\"1\" class=\"dataframe\">\n",
       "  <thead>\n",
       "    <tr style=\"text-align: right;\">\n",
       "      <th></th>\n",
       "      <th>event_click_preview1</th>\n",
       "      <th>date</th>\n",
       "      <th>country</th>\n",
       "      <th>city</th>\n",
       "      <th>artist</th>\n",
       "      <th>album</th>\n",
       "      <th>track</th>\n",
       "      <th>isrc</th>\n",
       "      <th>linkid</th>\n",
       "      <th>event_click</th>\n",
       "      <th>event</th>\n",
       "    </tr>\n",
       "  </thead>\n",
       "  <tbody>\n",
       "    <tr>\n",
       "      <th>0</th>\n",
       "      <td>click</td>\n",
       "      <td>2021-08-21</td>\n",
       "      <td>Saudi Arabia</td>\n",
       "      <td>Jeddah</td>\n",
       "      <td>Tesher</td>\n",
       "      <td>Jalebi Baby</td>\n",
       "      <td>Jalebi Baby</td>\n",
       "      <td>QZNWQ2070741</td>\n",
       "      <td>2d896d31-97b6-4869-967b-1c5fb9cd4bb8</td>\n",
       "      <td>9692.0</td>\n",
       "      <td>5974.0</td>\n",
       "    </tr>\n",
       "    <tr>\n",
       "      <th>1</th>\n",
       "      <td>click</td>\n",
       "      <td>2021-08-21</td>\n",
       "      <td>Saudi Arabia</td>\n",
       "      <td>Jeddah</td>\n",
       "      <td>Tesher</td>\n",
       "      <td>Jalebi Baby</td>\n",
       "      <td>Jalebi Baby</td>\n",
       "      <td>QZNWQ2070741</td>\n",
       "      <td>2d896d31-97b6-4869-967b-1c5fb9cd4bb8</td>\n",
       "      <td>9692.0</td>\n",
       "      <td>5974.0</td>\n",
       "    </tr>\n",
       "    <tr>\n",
       "      <th>2</th>\n",
       "      <td>click</td>\n",
       "      <td>2021-08-21</td>\n",
       "      <td>India</td>\n",
       "      <td>Ludhiana</td>\n",
       "      <td>Reyanna Maria</td>\n",
       "      <td>So Pretty</td>\n",
       "      <td>So Pretty</td>\n",
       "      <td>USUM72100871</td>\n",
       "      <td>23199824-9cf5-4b98-942a-34965c3b0cc2</td>\n",
       "      <td>1187.0</td>\n",
       "      <td>718.0</td>\n",
       "    </tr>\n",
       "  </tbody>\n",
       "</table>\n",
       "</div>"
      ],
      "text/plain": [
       "  event_click_preview1        date       country      city         artist  \\\n",
       "0                click  2021-08-21  Saudi Arabia    Jeddah         Tesher   \n",
       "1                click  2021-08-21  Saudi Arabia    Jeddah         Tesher   \n",
       "2                click  2021-08-21         India  Ludhiana  Reyanna Maria   \n",
       "\n",
       "         album        track          isrc  \\\n",
       "0  Jalebi Baby  Jalebi Baby  QZNWQ2070741   \n",
       "1  Jalebi Baby  Jalebi Baby  QZNWQ2070741   \n",
       "2    So Pretty    So Pretty  USUM72100871   \n",
       "\n",
       "                                 linkid  event_click   event  \n",
       "0  2d896d31-97b6-4869-967b-1c5fb9cd4bb8       9692.0  5974.0  \n",
       "1  2d896d31-97b6-4869-967b-1c5fb9cd4bb8       9692.0  5974.0  \n",
       "2  23199824-9cf5-4b98-942a-34965c3b0cc2       1187.0   718.0  "
      ]
     },
     "execution_count": 36,
     "metadata": {},
     "output_type": "execute_result"
    }
   ],
   "source": [
    "click_preview2.head(3)"
   ]
  },
  {
   "cell_type": "code",
   "execution_count": 37,
   "id": "98ec15ff",
   "metadata": {},
   "outputs": [],
   "source": [
    "# Drop the null values rows\n",
    "click_preview2.dropna(subset=['event_click_preview1', 'event'], inplace=True)\n",
    "\n",
    "# rename columns for clarity\n",
    "click_preview2 = click_preview2.rename(columns={'event_click_preview1':'event', 'event_click':'click', 'event':'preview'})"
   ]
  },
  {
   "cell_type": "code",
   "execution_count": 38,
   "id": "f8fef0ec",
   "metadata": {},
   "outputs": [
    {
     "data": {
      "text/html": [
       "<div>\n",
       "<style scoped>\n",
       "    .dataframe tbody tr th:only-of-type {\n",
       "        vertical-align: middle;\n",
       "    }\n",
       "\n",
       "    .dataframe tbody tr th {\n",
       "        vertical-align: top;\n",
       "    }\n",
       "\n",
       "    .dataframe thead th {\n",
       "        text-align: right;\n",
       "    }\n",
       "</style>\n",
       "<table border=\"1\" class=\"dataframe\">\n",
       "  <thead>\n",
       "    <tr style=\"text-align: right;\">\n",
       "      <th></th>\n",
       "      <th>event</th>\n",
       "      <th>date</th>\n",
       "      <th>country</th>\n",
       "      <th>city</th>\n",
       "      <th>artist</th>\n",
       "      <th>album</th>\n",
       "      <th>track</th>\n",
       "      <th>isrc</th>\n",
       "      <th>linkid</th>\n",
       "      <th>click</th>\n",
       "      <th>preview</th>\n",
       "    </tr>\n",
       "  </thead>\n",
       "  <tbody>\n",
       "    <tr>\n",
       "      <th>0</th>\n",
       "      <td>click</td>\n",
       "      <td>2021-08-21</td>\n",
       "      <td>Saudi Arabia</td>\n",
       "      <td>Jeddah</td>\n",
       "      <td>Tesher</td>\n",
       "      <td>Jalebi Baby</td>\n",
       "      <td>Jalebi Baby</td>\n",
       "      <td>QZNWQ2070741</td>\n",
       "      <td>2d896d31-97b6-4869-967b-1c5fb9cd4bb8</td>\n",
       "      <td>9692.0</td>\n",
       "      <td>5974.0</td>\n",
       "    </tr>\n",
       "    <tr>\n",
       "      <th>1</th>\n",
       "      <td>click</td>\n",
       "      <td>2021-08-21</td>\n",
       "      <td>Saudi Arabia</td>\n",
       "      <td>Jeddah</td>\n",
       "      <td>Tesher</td>\n",
       "      <td>Jalebi Baby</td>\n",
       "      <td>Jalebi Baby</td>\n",
       "      <td>QZNWQ2070741</td>\n",
       "      <td>2d896d31-97b6-4869-967b-1c5fb9cd4bb8</td>\n",
       "      <td>9692.0</td>\n",
       "      <td>5974.0</td>\n",
       "    </tr>\n",
       "    <tr>\n",
       "      <th>2</th>\n",
       "      <td>click</td>\n",
       "      <td>2021-08-21</td>\n",
       "      <td>India</td>\n",
       "      <td>Ludhiana</td>\n",
       "      <td>Reyanna Maria</td>\n",
       "      <td>So Pretty</td>\n",
       "      <td>So Pretty</td>\n",
       "      <td>USUM72100871</td>\n",
       "      <td>23199824-9cf5-4b98-942a-34965c3b0cc2</td>\n",
       "      <td>1187.0</td>\n",
       "      <td>718.0</td>\n",
       "    </tr>\n",
       "  </tbody>\n",
       "</table>\n",
       "</div>"
      ],
      "text/plain": [
       "   event        date       country      city         artist        album  \\\n",
       "0  click  2021-08-21  Saudi Arabia    Jeddah         Tesher  Jalebi Baby   \n",
       "1  click  2021-08-21  Saudi Arabia    Jeddah         Tesher  Jalebi Baby   \n",
       "2  click  2021-08-21         India  Ludhiana  Reyanna Maria    So Pretty   \n",
       "\n",
       "         track          isrc                                linkid   click  \\\n",
       "0  Jalebi Baby  QZNWQ2070741  2d896d31-97b6-4869-967b-1c5fb9cd4bb8  9692.0   \n",
       "1  Jalebi Baby  QZNWQ2070741  2d896d31-97b6-4869-967b-1c5fb9cd4bb8  9692.0   \n",
       "2    So Pretty  USUM72100871  23199824-9cf5-4b98-942a-34965c3b0cc2  1187.0   \n",
       "\n",
       "   preview  \n",
       "0   5974.0  \n",
       "1   5974.0  \n",
       "2    718.0  "
      ]
     },
     "execution_count": 38,
     "metadata": {},
     "output_type": "execute_result"
    }
   ],
   "source": [
    "click_preview2.head(3)"
   ]
  },
  {
   "cell_type": "code",
   "execution_count": 39,
   "id": "550a4364",
   "metadata": {},
   "outputs": [
    {
     "data": {
      "text/html": [
       "<div>\n",
       "<style scoped>\n",
       "    .dataframe tbody tr th:only-of-type {\n",
       "        vertical-align: middle;\n",
       "    }\n",
       "\n",
       "    .dataframe tbody tr th {\n",
       "        vertical-align: top;\n",
       "    }\n",
       "\n",
       "    .dataframe thead th {\n",
       "        text-align: right;\n",
       "    }\n",
       "</style>\n",
       "<table border=\"1\" class=\"dataframe\">\n",
       "  <thead>\n",
       "    <tr style=\"text-align: right;\">\n",
       "      <th></th>\n",
       "      <th>click</th>\n",
       "      <th>preview</th>\n",
       "    </tr>\n",
       "  </thead>\n",
       "  <tbody>\n",
       "    <tr>\n",
       "      <th>click</th>\n",
       "      <td>1.000000</td>\n",
       "      <td>0.998713</td>\n",
       "    </tr>\n",
       "    <tr>\n",
       "      <th>preview</th>\n",
       "      <td>0.998713</td>\n",
       "      <td>1.000000</td>\n",
       "    </tr>\n",
       "  </tbody>\n",
       "</table>\n",
       "</div>"
      ],
      "text/plain": [
       "            click   preview\n",
       "click    1.000000  0.998713\n",
       "preview  0.998713  1.000000"
      ]
     },
     "execution_count": 39,
     "metadata": {},
     "output_type": "execute_result"
    }
   ],
   "source": [
    "# Calculate the correlation coefficient for click and preview\n",
    "click_preview2_corr = click_preview2.corr()\n",
    "click_preview2_corr"
   ]
  },
  {
   "cell_type": "markdown",
   "id": "79a9a597",
   "metadata": {},
   "source": [
    "There is almost a perfect positive correlation between the number of clicks and previews. This is logical since a link can't be clicked with preview as well as a link can't be preview without clicking."
   ]
  },
  {
   "cell_type": "markdown",
   "id": "eaedd7eb",
   "metadata": {},
   "source": [
    "To examine the correlations between the categoric variables in the traffic dataset make use pd.factorize."
   ]
  },
  {
   "cell_type": "code",
   "execution_count": 40,
   "id": "8622eb16",
   "metadata": {},
   "outputs": [
    {
     "data": {
      "image/png": "[encoded data removed]",
      "text/plain": [
       "<Figure size 576x576 with 2 Axes>"
      ]
     },
     "metadata": {
      "needs_background": "light"
     },
     "output_type": "display_data"
    }
   ],
   "source": [
    "#traffic_data.apply(lambda x: pd.factorize(x)[0]).corr()\n",
    "trafficdata_corr = traffic_data.apply(lambda x: pd.factorize(x)[0]).corr(method = 'pearson', min_periods=1)\n",
    "\n",
    "fig, ax = plt.subplots(figsize =(8, 8))\n",
    "sns.heatmap(trafficdata_corr, annot = True, ax = ax)\n",
    "plt.show()"
   ]
  },
  {
   "cell_type": "markdown",
   "id": "6a7c8b22",
   "metadata": {},
   "source": [
    "Highly positive correlation between album, artist, track and linkid is observed. Whereas there is almost no correlation between other variables."
   ]
  },
  {
   "cell_type": "code",
   "execution_count": null,
   "id": "907edb8c",
   "metadata": {},
   "outputs": [],
   "source": []
  }
 ],
 "metadata": {
  "kernelspec": {
   "display_name": "Python 3 (ipykernel)",
   "language": "python",
   "name": "python3"
  },
  "language_info": {
   "codemirror_mode": {
    "name": "ipython",
    "version": 3
   },
   "file_extension": ".py",
   "mimetype": "text/x-python",
   "name": "python",
   "nbconvert_exporter": "python",
   "pygments_lexer": "ipython3",
   "version": "3.9.12"
  }
 },
 "nbformat": 4,
 "nbformat_minor": 5
}
